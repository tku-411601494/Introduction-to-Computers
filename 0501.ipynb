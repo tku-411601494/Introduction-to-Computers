{
  "nbformat": 4,
  "nbformat_minor": 0,
  "metadata": {
    "colab": {
      "provenance": [],
      "authorship_tag": "ABX9TyMdXIqd1WUn/XZbg+XW6ENL",
      "include_colab_link": true
    },
    "kernelspec": {
      "name": "python3",
      "display_name": "Python 3"
    },
    "language_info": {
      "name": "python"
    }
  },
  "cells": [
    {
      "cell_type": "markdown",
      "metadata": {
        "id": "view-in-github",
        "colab_type": "text"
      },
      "source": [
        "<a href=\"https://colab.research.google.com/github/tku-411601494/Introduction-to-Computers/blob/main/0501.ipynb\" target=\"_parent\"><img src=\"https://colab.research.google.com/assets/colab-badge.svg\" alt=\"Open In Colab\"/></a>"
      ]
    },
    {
      "cell_type": "code",
      "execution_count": 26,
      "metadata": {
        "colab": {
          "base_uri": "https://localhost:8080/"
        },
        "id": "FMksxL-8KdIf",
        "outputId": "da6d69d5-bb2a-4cb0-b9c7-1003220de023"
      },
      "outputs": [
        {
          "name": "stdout",
          "output_type": "stream",
          "text": [
            "請輸入本金金額:10000\n"
          ]
        }
      ],
      "source": [
        "本金=int(input('請輸入本金金額:'))"
      ]
    },
    {
      "cell_type": "code",
      "source": [
        "利率=int(input('請輸入利率(%):'))"
      ],
      "metadata": {
        "colab": {
          "base_uri": "https://localhost:8080/"
        },
        "id": "sLV6Z4ihKeZT",
        "outputId": "490ff944-c930-41c7-bd8c-0d96f44aeac4"
      },
      "execution_count": 29,
      "outputs": [
        {
          "name": "stdout",
          "output_type": "stream",
          "text": [
            "請輸入利率(%):2\n"
          ]
        }
      ]
    },
    {
      "cell_type": "code",
      "source": [
        "years=int(input('請輸入經過幾年:'))"
      ],
      "metadata": {
        "colab": {
          "base_uri": "https://localhost:8080/"
        },
        "id": "7X1kzJnMKegb",
        "outputId": "6d1de7d2-85d7-49c7-a8ad-82b83ba6326b"
      },
      "execution_count": 37,
      "outputs": [
        {
          "name": "stdout",
          "output_type": "stream",
          "text": [
            "請輸入經過幾年:6\n"
          ]
        }
      ]
    },
    {
      "cell_type": "code",
      "source": [
        "存款=本金*(1+利率/100)**years"
      ],
      "metadata": {
        "id": "LfwCbi4jKejr"
      },
      "execution_count": 38,
      "outputs": []
    },
    {
      "cell_type": "code",
      "source": [
        "存款"
      ],
      "metadata": {
        "colab": {
          "base_uri": "https://localhost:8080/"
        },
        "id": "ofyKqQmBKemu",
        "outputId": "8a161c95-5485-418b-de31-3f8c11a7508f"
      },
      "execution_count": 39,
      "outputs": [
        {
          "output_type": "execute_result",
          "data": {
            "text/plain": [
              "11261.62419264"
            ]
          },
          "metadata": {},
          "execution_count": 39
        }
      ]
    },
    {
      "cell_type": "code",
      "source": [
        "print(\"Hellow World\")"
      ],
      "metadata": {
        "colab": {
          "base_uri": "https://localhost:8080/"
        },
        "id": "WkY2TNLdSQG2",
        "outputId": "3dccc348-35c9-4c3d-bf25-d9ffee2785ca"
      },
      "execution_count": 41,
      "outputs": [
        {
          "output_type": "stream",
          "name": "stdout",
          "text": [
            "Hellow World\n"
          ]
        }
      ]
    },
    {
      "cell_type": "code",
      "source": [
        "sum=0\n",
        "none=1\n",
        "while(none):\n",
        "  N=int(input('請輸入一個正整數'))\n",
        "  if N>0:\n",
        "   none=0\n",
        "\n",
        "for i in range(1,N+1):\n",
        "  sum=sum+i\n",
        "print(sum)\n"
      ],
      "metadata": {
        "colab": {
          "base_uri": "https://localhost:8080/"
        },
        "id": "rnl2KI2CSQPl",
        "outputId": "7dcd4eb5-33e4-4f33-e602-375d8fbc251f"
      },
      "execution_count": 71,
      "outputs": [
        {
          "output_type": "stream",
          "name": "stdout",
          "text": [
            "請輸入一個正整數5\n",
            "15\n"
          ]
        }
      ]
    },
    {
      "cell_type": "code",
      "source": [
        "F=int(input('請輸入華氏溫度:'))"
      ],
      "metadata": {
        "colab": {
          "base_uri": "https://localhost:8080/"
        },
        "id": "e1mgGpbuW6aq",
        "outputId": "c2e2c172-7b89-45cf-d52c-c8930979284f"
      },
      "execution_count": 63,
      "outputs": [
        {
          "name": "stdout",
          "output_type": "stream",
          "text": [
            "請輸入華氏溫度:100\n"
          ]
        }
      ]
    },
    {
      "cell_type": "code",
      "source": [
        "C=float((F-32)*5/9)"
      ],
      "metadata": {
        "id": "VcRA5NrrW6dn"
      },
      "execution_count": 65,
      "outputs": []
    },
    {
      "cell_type": "code",
      "source": [
        "print(\"%.1f\" % C)"
      ],
      "metadata": {
        "colab": {
          "base_uri": "https://localhost:8080/"
        },
        "id": "-sbR8s0VW6gB",
        "outputId": "224fb0de-76f2-4e7b-95cc-5ab811267029"
      },
      "execution_count": 66,
      "outputs": [
        {
          "output_type": "stream",
          "name": "stdout",
          "text": [
            "37.8\n"
          ]
        }
      ]
    },
    {
      "cell_type": "code",
      "source": [],
      "metadata": {
        "id": "-VqtrIrASQX-"
      },
      "execution_count": null,
      "outputs": []
    },
    {
      "cell_type": "code",
      "source": [],
      "metadata": {
        "id": "0_-LmQdDSQaV"
      },
      "execution_count": null,
      "outputs": []
    }
  ]
}