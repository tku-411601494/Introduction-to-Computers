{
  "nbformat": 4,
  "nbformat_minor": 0,
  "metadata": {
    "colab": {
      "provenance": [],
      "authorship_tag": "ABX9TyMlO7cK667Jqi1ysbwnR/+n",
      "include_colab_link": true
    },
    "kernelspec": {
      "name": "python3",
      "display_name": "Python 3"
    },
    "language_info": {
      "name": "python"
    }
  },
  "cells": [
    {
      "cell_type": "markdown",
      "metadata": {
        "id": "view-in-github",
        "colab_type": "text"
      },
      "source": [
        "<a href=\"https://colab.research.google.com/github/tku-411601494/Introduction-to-Computers/blob/main/0516.ipynb\" target=\"_parent\"><img src=\"https://colab.research.google.com/assets/colab-badge.svg\" alt=\"Open In Colab\"/></a>"
      ]
    },
    {
      "cell_type": "code",
      "execution_count": null,
      "metadata": {
        "colab": {
          "base_uri": "https://localhost:8080/"
        },
        "id": "D8jt1HyhRFvg",
        "outputId": "11da0382-57d2-44be-9e19-1d77935135b2"
      },
      "outputs": [
        {
          "output_type": "stream",
          "name": "stdout",
          "text": [
            "今天會下雨嗎?v\n",
            "再輸一次\n"
          ]
        }
      ],
      "source": [
        "rain=str(input(\"今天會下雨嗎?\"))\n",
        "if(rain==\"Y\" or rain==\"y\"):\n",
        "  print(\"出門要帶傘\")\n",
        "elif(rain==\"N\" or rain==\"n\"):\n",
        "  print(\"不用帶傘\")\n",
        "else:\n",
        "  print(\"再輸一次\")"
      ]
    },
    {
      "cell_type": "code",
      "source": [
        "體溫=int(input(\"請輸入體溫\"))\n",
        "if 體溫>= 37.5:\n",
        "  print(\"體溫過高\")\n",
        "elif (37<=體溫<=37.4):\n",
        "  print(\"體溫略高\")\n",
        "elif (34<=體溫<=36.9):\n",
        "  print(\"體溫正常\")\n",
        "else: \n",
        "  print(\"體溫異常,請重新量測\")"
      ],
      "metadata": {
        "id": "CwlDLKmLRJAJ",
        "colab": {
          "base_uri": "https://localhost:8080/"
        },
        "outputId": "0dc38fc9-d22f-4419-ac57-98c271231006"
      },
      "execution_count": null,
      "outputs": [
        {
          "output_type": "stream",
          "name": "stdout",
          "text": [
            "請輸入體溫30\n",
            "體溫異常,請重新量測\n"
          ]
        }
      ]
    },
    {
      "cell_type": "code",
      "source": [
        "score = int(input(\"score: \"))\n",
        "if score >= 90:\n",
        "  print('Grade is: A')\n",
        "elif (score >= 80 and score <= 89):\n",
        "  print('Grade is: B')\n",
        "elif (score >= 70 and score <= 79):\n",
        "  print('Grade is: C')\n",
        "elif (score >= 60 and score <= 69):\n",
        "  print('Grade is: D')\n",
        "else:\n",
        "  print('Grade is: F')"
      ],
      "metadata": {
        "id": "P3WTWGMQRJEJ",
        "colab": {
          "base_uri": "https://localhost:8080/"
        },
        "outputId": "5db0f8f1-47db-48c3-977e-8881ae42e9b6"
      },
      "execution_count": null,
      "outputs": [
        {
          "output_type": "stream",
          "name": "stdout",
          "text": [
            "score: 60\n",
            "Grade is: D\n"
          ]
        }
      ]
    },
    {
      "cell_type": "code",
      "source": [
        "\n",
        "\n",
        "收入 = int(input(\"請輸入收入:\"))\n",
        "if 收入 >= 2000000:\n",
        "  print(\"稅率=0.3\",0.3*收入)\n",
        "elif 收入 >= 1000000:\n",
        "  print(\"稅率=0.21\",收入*0.21) \n",
        "elif 收入 >= 600000:\n",
        "  print(\"稅率=0.13\",收入*0.13)\n",
        "elif 收入 >= 300000:\n",
        "  print(\"稅率=0.06\",收入*0.06)\n",
        "else:\n",
        "  print(\"免稅\")\n",
        "\n",
        "  \n"
      ],
      "metadata": {
        "colab": {
          "base_uri": "https://localhost:8080/"
        },
        "id": "86DiQcklRJJt",
        "outputId": "4ac3e754-f3ab-434d-84e1-fb30b0215ca4"
      },
      "execution_count": 68,
      "outputs": [
        {
          "output_type": "stream",
          "name": "stdout",
          "text": [
            "請輸入收入:350000\n",
            "稅率=0.06 21000.0\n"
          ]
        }
      ]
    },
    {
      "cell_type": "code",
      "source": [
        "季節=int(input(\"請輸入季節\"))\n",
        "if 季節 in [3,4,5]:\n",
        "  print(\"春天\")\n",
        "elif 季節 in [6,7,8]:\n",
        "  print(\"夏天\")\n",
        "elif 季節 in [9,10,11]:\n",
        "  print(\"秋天\")\n",
        "elif 季節 in [12,1,2]:\n",
        "  print(\"冬天\")\n",
        "else:\n",
        "  print(\"不在範圍內\")"
      ],
      "metadata": {
        "id": "WSNxPNd-RJM8",
        "colab": {
          "base_uri": "https://localhost:8080/"
        },
        "outputId": "51ba6038-8d93-4445-c2a4-c45174bb7e83"
      },
      "execution_count": 3,
      "outputs": [
        {
          "output_type": "stream",
          "name": "stdout",
          "text": [
            "請輸入季節5\n",
            "春天\n"
          ]
        }
      ]
    },
    {
      "cell_type": "code",
      "source": [],
      "metadata": {
        "id": "KFqO9ic9RJPz"
      },
      "execution_count": null,
      "outputs": []
    }
  ]
}