{
  "nbformat": 4,
  "nbformat_minor": 0,
  "metadata": {
    "colab": {
      "provenance": [],
      "authorship_tag": "ABX9TyPJMaHeLUVOKH+t+2YcQQA/",
      "include_colab_link": true
    },
    "kernelspec": {
      "name": "python3",
      "display_name": "Python 3"
    },
    "language_info": {
      "name": "python"
    }
  },
  "cells": [
    {
      "cell_type": "markdown",
      "metadata": {
        "id": "view-in-github",
        "colab_type": "text"
      },
      "source": [
        "<a href=\"https://colab.research.google.com/github/tku-411601494/Introduction-to-Computers/blob/main/0516.ipynb\" target=\"_parent\"><img src=\"https://colab.research.google.com/assets/colab-badge.svg\" alt=\"Open In Colab\"/></a>"
      ]
    },
    {
      "cell_type": "code",
      "execution_count": 5,
      "metadata": {
        "colab": {
          "base_uri": "https://localhost:8080/"
        },
        "id": "D8jt1HyhRFvg",
        "outputId": "11da0382-57d2-44be-9e19-1d77935135b2"
      },
      "outputs": [
        {
          "output_type": "stream",
          "name": "stdout",
          "text": [
            "今天會下雨嗎?v\n",
            "再輸一次\n"
          ]
        }
      ],
      "source": [
        "rain=str(input(\"今天會下雨嗎?\"))\n",
        "if(rain==\"Y\" or rain==\"y\"):\n",
        "  print(\"出門要帶傘\")\n",
        "elif(rain==\"N\" or rain==\"n\"):\n",
        "  print(\"不用帶傘\")\n",
        "else:\n",
        "  print(\"再輸一次\")\n",
        "\n",
        "\n"
      ]
    },
    {
      "cell_type": "code",
      "source": [
        "體溫=int(input(\"請輸入體溫\"))\n",
        "if 體溫>= 37.5:\n",
        "  print(\"體溫過高\")\n",
        "elif (37<=體溫<=37.4):\n",
        "  print(\"體溫略高\")\n",
        "elif (34<=體溫<=36.9):\n",
        "  print(\"體溫正常\")\n",
        "else: \n",
        "  print(\"體溫異常,請重新量測\")"
      ],
      "metadata": {
        "colab": {
          "base_uri": "https://localhost:8080/"
        },
        "id": "CwlDLKmLRJAJ",
        "outputId": "4b51a9c8-3b31-4827-fb14-b8e0a23bcb00"
      },
      "execution_count": 36,
      "outputs": [
        {
          "output_type": "stream",
          "name": "stdout",
          "text": [
            "請輸入體溫20\n",
            "體溫異常,請重新量測\n"
          ]
        }
      ]
    },
    {
      "cell_type": "code",
      "source": [
        "score = int(input(\"score: \"))\n",
        "if score >= 90:\n",
        "  print('Grade is: A')\n",
        "elif (score >= 80 and score <= 89):\n",
        "  print('Grade is: B')\n",
        "elif (score >= 70 and score <= 79):\n",
        "  print('Grade is: C')\n",
        "elif (score >= 60 and score <= 69):\n",
        "  print('Grade is: D')\n",
        "else:\n",
        "  print('Grade is: F')"
      ],
      "metadata": {
        "colab": {
          "base_uri": "https://localhost:8080/"
        },
        "id": "P3WTWGMQRJEJ",
        "outputId": "0796e86d-a21a-402e-c096-35f1f8024e45"
      },
      "execution_count": 25,
      "outputs": [
        {
          "output_type": "stream",
          "name": "stdout",
          "text": [
            "score: 50\n",
            "Grade is: F\n"
          ]
        }
      ]
    },
    {
      "cell_type": "code",
      "source": [
        "季節=int(input(\"請輸入季節\"))\n",
        "if 季節 in [3,4,5]:\n",
        "  print(\"是春天\")\n",
        "elif 季節 in [6,7,8]:\n",
        "  print(\"是夏天\")\n",
        "elif 季節 in [9,10,11]:\n",
        "  print(\"是秋天\")\n",
        "elif 季節 in [12,1,2]:\n",
        "  print(\"是冬天\")\n",
        "else:\n",
        "  print(\"月份不在此範圍\")\n",
        "\n",
        "\n"
      ],
      "metadata": {
        "colab": {
          "base_uri": "https://localhost:8080/"
        },
        "id": "ZnhBf4DjRJHB",
        "outputId": "c5dd7a4d-e91c-428d-a093-2f20d878378c"
      },
      "execution_count": 29,
      "outputs": [
        {
          "output_type": "stream",
          "name": "stdout",
          "text": [
            "請輸入季節4\n",
            "是春天\n"
          ]
        }
      ]
    },
    {
      "cell_type": "code",
      "source": [
        "收入 = int(input(\"請輸入收入: \"))\n",
        "if 收入 >= 2000000:\n",
        "  print('付稅金額:0.3')\n",
        "elif 收入 >= 1000000:\n",
        "  print('付稅金額:0.1')\n",
        "elif 收入 >= 600000:\n",
        "  print('付稅金額:0.13')\n",
        "elif 收入 >= 300000:\n",
        "  print('付稅金額:0.06')\n",
        "else:\n",
        "  print('付稅金額:0')"
      ],
      "metadata": {
        "colab": {
          "base_uri": "https://localhost:8080/"
        },
        "id": "86DiQcklRJJt",
        "outputId": "b7688b8f-278e-4f52-a6ce-5a831b409344"
      },
      "execution_count": 34,
      "outputs": [
        {
          "output_type": "stream",
          "name": "stdout",
          "text": [
            "請輸入收入: 3000000\n",
            "付稅金額:0.3\n"
          ]
        }
      ]
    },
    {
      "cell_type": "code",
      "source": [],
      "metadata": {
        "id": "WSNxPNd-RJM8"
      },
      "execution_count": null,
      "outputs": []
    },
    {
      "cell_type": "code",
      "source": [],
      "metadata": {
        "id": "KFqO9ic9RJPz"
      },
      "execution_count": null,
      "outputs": []
    }
  ]
}